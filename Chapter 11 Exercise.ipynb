{
 "cells": [
  {
   "cell_type": "markdown",
   "id": "949ef947",
   "metadata": {},
   "source": [
    "## 2 Ex."
   ]
  },
  {
   "cell_type": "code",
   "execution_count": 3,
   "id": "4446c8b1",
   "metadata": {},
   "outputs": [
    {
     "name": "stdout",
     "output_type": "stream",
     "text": [
      "Name: Madux Biondo-Smith\n",
      "Employee ID: 3289\n",
      "Salary: 1000\n",
      "Production Bonus: 3000\n"
     ]
    }
   ],
   "source": [
    "# Assuming you have an Employee class\n",
    "class Employee:\n",
    "    def __init__(self, name, employee_id):\n",
    "        self.name = name\n",
    "        self.employee_id = employee_id\n",
    "\n",
    "# ShiftSupervisor class as a subclass of Employee\n",
    "class ShiftSupervisor(Employee):\n",
    "    def __init__(self, name, employee_id, salary, production_bonus):\n",
    "        # Call the __init__ method of the base class (Employee)\n",
    "        super().__init__(name, employee_id)\n",
    "        \n",
    "        # Additional attributes for ShiftSupervisor\n",
    "        self.salary = salary\n",
    "        self.production_bonus = production_bonus\n",
    "\n",
    "# Demonstrate the ShiftSupervisor class\n",
    "def main():\n",
    "    # Create a ShiftSupervisor object\n",
    "    supervisor = ShiftSupervisor(\"Madux Biondo-Smith\", \"3289\", 1000, 3000)\n",
    "\n",
    "    # Display information\n",
    "    print(\"Name:\", supervisor.name)\n",
    "    print(\"Employee ID:\", supervisor.employee_id)\n",
    "    print(\"Salary:\", supervisor.salary)\n",
    "    print(\"Production Bonus:\", supervisor.production_bonus)\n",
    "\n",
    "if __name__ == \"__main__\":\n",
    "    main()\n"
   ]
  },
  {
   "cell_type": "markdown",
   "id": "cdb6e2aa",
   "metadata": {},
   "source": [
    "## 3 Ex."
   ]
  },
  {
   "cell_type": "code",
   "execution_count": 4,
   "id": "990f35b3",
   "metadata": {},
   "outputs": [
    {
     "name": "stdout",
     "output_type": "stream",
     "text": [
      "Name: Madux Biondo-Smith\n",
      "Address: 123 Main St\n",
      "Telephone Number: 555-1234\n",
      "Customer Number: C12345\n",
      "On Mailing List: True\n"
     ]
    }
   ],
   "source": [
    "class Person:\n",
    "    def __init__(self, name, address, telephone_number):\n",
    "        self.name = name\n",
    "        self.address = address\n",
    "        self.telephone_number = telephone_number\n",
    "\n",
    "class Customer(Person):\n",
    "    def __init__(self, name, address, telephone_number, customer_number, on_mailing_list):\n",
    "        # Call the __init__ method of the base class (Person)\n",
    "        super().__init__(name, address, telephone_number)\n",
    "        \n",
    "        # Additional attributes for Customer\n",
    "        self.customer_number = customer_number\n",
    "        self.on_mailing_list = on_mailing_list\n",
    "\n",
    "# Demonstrate the Customer class\n",
    "def main():\n",
    "    # Create a Customer object\n",
    "    customer = Customer(\"Madux Biondo-Smith\", \"123 Main St\", \"555-1234\", \"C12345\", True)\n",
    "\n",
    "    # Display information\n",
    "    print(\"Name:\", customer.name)\n",
    "    print(\"Address:\", customer.address)\n",
    "    print(\"Telephone Number:\", customer.telephone_number)\n",
    "    print(\"Customer Number:\", customer.customer_number)\n",
    "    print(\"On Mailing List:\", customer.on_mailing_list)\n",
    "\n",
    "if __name__ == \"__main__\":\n",
    "    main()\n"
   ]
  },
  {
   "cell_type": "code",
   "execution_count": null,
   "id": "e69e2e3e",
   "metadata": {},
   "outputs": [],
   "source": []
  }
 ],
 "metadata": {
  "kernelspec": {
   "display_name": "Python 3 (ipykernel)",
   "language": "python",
   "name": "python3"
  },
  "language_info": {
   "codemirror_mode": {
    "name": "ipython",
    "version": 3
   },
   "file_extension": ".py",
   "mimetype": "text/x-python",
   "name": "python",
   "nbconvert_exporter": "python",
   "pygments_lexer": "ipython3",
   "version": "3.11.4"
  }
 },
 "nbformat": 4,
 "nbformat_minor": 5
}
